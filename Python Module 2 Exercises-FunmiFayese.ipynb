{
 "cells": [
  {
   "cell_type": "markdown",
   "metadata": {},
   "source": [
    "1. Print out a data type of a variable?"
   ]
  },
  {
   "cell_type": "code",
   "execution_count": 2,
   "metadata": {},
   "outputs": [
    {
     "data": {
      "text/plain": [
       "str"
      ]
     },
     "execution_count": 2,
     "metadata": {},
     "output_type": "execute_result"
    }
   ],
   "source": [
    "type(\"Hello, World\")"
   ]
  },
  {
   "cell_type": "markdown",
   "metadata": {},
   "source": [
    "2. Round 4.5667 to the nearest hundreth using a build-in function, round()."
   ]
  },
  {
   "cell_type": "code",
   "execution_count": 3,
   "metadata": {},
   "outputs": [
    {
     "data": {
      "text/plain": [
       "5"
      ]
     },
     "execution_count": 3,
     "metadata": {},
     "output_type": "execute_result"
    }
   ],
   "source": [
    "round(4.5667)"
   ]
  },
  {
   "cell_type": "markdown",
   "metadata": {},
   "source": [
    "3. Convert \"657\" to an integer data type"
   ]
  },
  {
   "cell_type": "code",
   "execution_count": 5,
   "metadata": {},
   "outputs": [
    {
     "data": {
      "text/plain": [
       "657"
      ]
     },
     "execution_count": 5,
     "metadata": {},
     "output_type": "execute_result"
    }
   ],
   "source": [
    "int(\"657\")"
   ]
  },
  {
   "cell_type": "markdown",
   "metadata": {},
   "source": [
    "4. Write a function to calculate the miles per gallon.\n",
    "Get a miles driven and gallons used from a user and call your function to calculate the miles per gallon. "
   ]
  },
  {
   "cell_type": "code",
   "execution_count": 3,
   "metadata": {},
   "outputs": [
    {
     "name": "stdout",
     "output_type": "stream",
     "text": [
      "Enter miles driven: 10\n",
      "Enter gallons used: 5\n",
      "2.0\n"
     ]
    }
   ],
   "source": [
    "def function_1() :\n",
    "    miles_per_gallon = value / value1\n",
    "    print(miles_per_gallon)\n",
    "    \n",
    "    \n",
    "value = int(input(\"Enter miles driven: \"))\n",
    "value1 = int(input(\"Enter gallons used: \"))    \n",
    "function_1()\n"
   ]
  },
  {
   "cell_type": "markdown",
   "metadata": {},
   "source": [
    "5. Enhance your function from exercise 3. Additionally, get a gas price per gallon from a user and write a program to compute the total gas cost and cost per mile. \n",
    "\n",
    "The output should look something like this:\n",
    "\n",
    "    Enter miles driven:            150\n",
    "    Enter gallons of gas used:     15\n",
    "    Enter cost per gallon:          3\n",
    "\n",
    "    Miles Per Gallon:   10.0\n",
    "    Total Gas Cost:     45.0\n",
    "    Cost per Mile:      0.3\n"
   ]
  },
  {
   "cell_type": "code",
   "execution_count": 6,
   "metadata": {},
   "outputs": [
    {
     "name": "stdout",
     "output_type": "stream",
     "text": [
      "Enter miles driven: 150\n",
      "Enter gallons of gas used: 15\n",
      "Enter cost per gallon: 3\n",
      "Miles Per Gallon:  10.0\n",
      "Total Gas Cost:  45.0\n",
      "Cost per Mile:  0.3\n"
     ]
    }
   ],
   "source": [
    "def my_function() :\n",
    "    value = int(input(\"Enter miles driven: \"))\n",
    "    value1 = int(input(\"Enter gallons of gas used: \"))\n",
    "    value2 = int(input(\"Enter cost per gallon: \"))\n",
    "    miles_per_gallon = value / value1\n",
    "    total_gas_cost = float(value1 * value2)\n",
    "    cost_per_mile = float(value2 / miles_per_gallon)\n",
    "    print(\"Miles Per Gallon: \", miles_per_gallon)\n",
    "    print(\"Total Gas Cost: \", total_gas_cost)\n",
    "    print(\"Cost per Mile: \", cost_per_mile)\n",
    "    #value = int(input(\"Enter miles driven: \"))\n",
    "    #value1 = int(input(\"Enter gallons of gas used: \"))\n",
    "    #value2 = int(input(\"Enter cost per gallon: \"))\n",
    "\n",
    "my_function()"
   ]
  },
  {
   "cell_type": "markdown",
   "metadata": {},
   "source": [
    "6. Write a function called multiply_two() that accepts two parameters. The function should print a message like '15 + 2 = 17'.  Randomly generate two numbers between 1 and 100, then call the function with the two random numbers."
   ]
  },
  {
   "cell_type": "code",
   "execution_count": 16,
   "metadata": {},
   "outputs": [
    {
     "name": "stdout",
     "output_type": "stream",
     "text": [
      " 15 + 2 = 17\n",
      "20\n"
     ]
    }
   ],
   "source": [
    "import random as rand\n",
    "def multiply_two(start_no, end_no) :\n",
    "\tnum1=15\n",
    "\tnum2=2\n",
    "\tresult = num1+num2\n",
    "\tprint(\"\",num1,\"+\",num2,\"=\", result)\n",
    "\tx = rand.randint(start_no, end_no)\n",
    "\tprint(x)\n",
    "\treturn\n",
    "\n",
    "multiply_two(1, 100) "
   ]
  },
  {
   "cell_type": "markdown",
   "metadata": {},
   "source": [
    "7. Write a function called make_shirt() that accepts a size and the text of a message. The function should print a sentence summarizing the size of the shirt and the message printed on it. The default shirt size is large and default message is 'I love Python!' Make a default size shirt with a message, a medium shirt with the default message, and a shirt of any size with a different message."
   ]
  },
  {
   "cell_type": "code",
   "execution_count": 9,
   "metadata": {},
   "outputs": [
    {
     "name": "stdout",
     "output_type": "stream",
     "text": [
      "Default size of my shirt is:  Large , I love Python\n",
      "Medium size is:  Medium , I love Python\n",
      "Enter the size of your shirt: small\n",
      "New size is:  small , Organic Fruits is good for you\n"
     ]
    }
   ],
   "source": [
    "def make_shirt() :\n",
    "    def_size = \"Large\"\n",
    "    med_size = \"Medium\"\n",
    "    def_message = \"I love Python\"\n",
    "    new_message = \"Organic Fruits is good for you\"\n",
    "    print(\"Default size of my shirt is: \", def_size, \",\", def_message)\n",
    "    print(\"Medium size is: \", med_size, \",\", def_message)\n",
    "    new_size = input(\"Enter the size of your shirt: \")\n",
    "    print(\"New size is: \", new_size, \",\", new_message)\n",
    "    \n",
    "make_shirt()  "
   ]
  },
  {
   "cell_type": "markdown",
   "metadata": {},
   "source": [
    "8. Create a function for a multiplication table.  Get a number from a user and then call you function which produces a multiplication table for that number.\n",
    "The output should look something like this:\n",
    "\n",
    "        Enter a number: 3\n",
    "        3 X 1 = 3\n",
    "        3 X 2 = 6\n",
    "        3 X 3 = 9\n",
    "        3 X 4 = 12\n",
    "        3 X 5 = 15\n",
    "        3 X 6 = 18\n",
    "        3 X 7 = 21\n",
    "        3 X 8 = 24\n",
    "        3 X 9 = 27\n",
    "        "
   ]
  },
  {
   "cell_type": "code",
   "execution_count": 12,
   "metadata": {},
   "outputs": [
    {
     "name": "stdout",
     "output_type": "stream",
     "text": [
      "Enter a number: 1\n",
      "8\n"
     ]
    }
   ],
   "source": [
    "import random as rand\n",
    "def multiply_number() :\n",
    "    num = int(input(\"Enter a number: \"))\n",
    "    x = rand.randint(1, 10)\n",
    "    x = x*num\n",
    "    print(x)\n",
    "    return\n",
    "   # num = int(input(\"Enter a number: \"))   \n",
    "\n",
    "multiply_number()"
   ]
  },
  {
   "cell_type": "markdown",
   "metadata": {},
   "source": [
    "9. Write a function that accepts a string and returns a string that is \n",
    "    - without any leading nor trailing blanks\n",
    "    - converts to all capital letters\n",
    "    - and replaces all blanks with a period(.).  \n",
    "\n",
    "Write a program to accept a string from a user then call your function and display the original string and changed string.  \n",
    "\n",
    "The output should look something like this:\n",
    "\n",
    "        Enter a text: may your dreams come true\n",
    "        \n",
    "        Original Text: may your dreams come true\n",
    "        New Text: MAY.YOUR.DREAMS.COME.TRUE"
   ]
  },
  {
   "cell_type": "code",
   "execution_count": 10,
   "metadata": {},
   "outputs": [
    {
     "name": "stdout",
     "output_type": "stream",
     "text": [
      "Enter a text: may your dreams come true\n",
      "\n",
      "\n",
      "Original Text:  may your dreams come true\n",
      "New Text:  MAY YOUR DREAMS COME TRUE\n"
     ]
    }
   ],
   "source": [
    "def accept_message() :\n",
    "    orig_message = \"may your dreams come true\"\n",
    "    new_message = input(\"Enter a text: \")\n",
    "    print(\"\\n\")\n",
    "    print(\"Original Text: \", orig_message)\n",
    "    print(\"New Text: \", new_message.upper())\n",
    "    \n",
    "accept_message()"
   ]
  },
  {
   "cell_type": "markdown",
   "metadata": {},
   "source": [
    "10. Write a function that returns a randomly selected character from a passed string. Write a program to accept a string from a user then call your function and display the original string and selected character.\n",
    "\n",
    "The output should look something like this:\n",
    "\n",
    "        Enter a text: functions\n",
    "        Original Text:\tfunctions\n",
    "        Random character:\ts"
   ]
  },
  {
   "cell_type": "code",
   "execution_count": 16,
   "metadata": {},
   "outputs": [
    {
     "name": "stdout",
     "output_type": "stream",
     "text": [
      "Enter a text: python\n",
      "\n",
      "\n",
      "Original Text:  python\n",
      "Random character:  y\n"
     ]
    }
   ],
   "source": [
    "import random\n",
    "import string\n",
    "def message() :\n",
    "    orig_message = \"functions\"\n",
    "    new_message = input(\"Enter a text: \")\n",
    "    print(\"\\n\")\n",
    "    print(\"Original Text: \", new_message)\n",
    "    new_message = random.choice(new_message)\n",
    "    print(\"Random character: \", new_message)\n",
    "    \n",
    "message() "
   ]
  },
  {
   "cell_type": "code",
   "execution_count": null,
   "metadata": {},
   "outputs": [],
   "source": []
  }
 ],
 "metadata": {
  "kernelspec": {
   "display_name": "Python 3",
   "language": "python",
   "name": "python3"
  },
  "language_info": {
   "codemirror_mode": {
    "name": "ipython",
    "version": 3
   },
   "file_extension": ".py",
   "mimetype": "text/x-python",
   "name": "python",
   "nbconvert_exporter": "python",
   "pygments_lexer": "ipython3",
   "version": "3.8.8"
  }
 },
 "nbformat": 4,
 "nbformat_minor": 4
}
