{
 "cells": [
  {
   "cell_type": "code",
   "execution_count": 1,
   "id": "4979c50b",
   "metadata": {},
   "outputs": [
    {
     "name": "stdout",
     "output_type": "stream",
     "text": [
      "Hello World\n"
     ]
    }
   ],
   "source": [
    "# this is my first exercise\n",
    "x = \"Hello World\"\n",
    "print(x)"
   ]
  },
  {
   "cell_type": "code",
   "execution_count": 2,
   "id": "f919bd0b",
   "metadata": {},
   "outputs": [
    {
     "name": "stdout",
     "output_type": "stream",
     "text": [
      "Hello Python\n",
      "Today is May 27\n"
     ]
    }
   ],
   "source": [
    "#this is part of exercise 1\n",
    "y = \"Hello Python\"\n",
    "print(y)\n",
    "y=\"Today is May 27\"\n",
    "print(y)"
   ]
  },
  {
   "cell_type": "code",
   "execution_count": 46,
   "id": "68c390f3",
   "metadata": {},
   "outputs": [
    {
     "name": "stdout",
     "output_type": "stream",
     "text": [
      "499.5\n",
      "0.065\n",
      "32.4675\n",
      "531.9675\n"
     ]
    }
   ],
   "source": [
    "#This is Exercise 2\n",
    "Price = 49.95\n",
    "Quantity = 10\n",
    "amount = 6.5\n",
    "Sales_Tax = (amount)/100\n",
    "Subtotal = (Price * Quantity) \n",
    "print (Subtotal)\n",
    "print (Sales_Tax)\n",
    "Sales_Tax = Subtotal * Sales_Tax\n",
    "print(Sales_Tax)\n",
    "Total = Subtotal + Sales_Tax\n",
    "print(Total)"
   ]
  },
  {
   "cell_type": "code",
   "execution_count": null,
   "id": "c754ad48",
   "metadata": {},
   "outputs": [],
   "source": []
  }
 ],
 "metadata": {
  "kernelspec": {
   "display_name": "Python 3",
   "language": "python",
   "name": "python3"
  },
  "language_info": {
   "codemirror_mode": {
    "name": "ipython",
    "version": 3
   },
   "file_extension": ".py",
   "mimetype": "text/x-python",
   "name": "python",
   "nbconvert_exporter": "python",
   "pygments_lexer": "ipython3",
   "version": "3.8.8"
  }
 },
 "nbformat": 4,
 "nbformat_minor": 5
}
